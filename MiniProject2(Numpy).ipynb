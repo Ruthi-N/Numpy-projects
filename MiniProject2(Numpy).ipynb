{
  "nbformat": 4,
  "nbformat_minor": 0,
  "metadata": {
    "colab": {
      "provenance": [],
      "authorship_tag": "ABX9TyPEMgdYIEujwf4suThq4mOY",
      "include_colab_link": true
    },
    "kernelspec": {
      "name": "python3",
      "display_name": "Python 3"
    },
    "language_info": {
      "name": "python"
    }
  },
  "cells": [
    {
      "cell_type": "markdown",
      "metadata": {
        "id": "view-in-github",
        "colab_type": "text"
      },
      "source": [
        "<a href=\"https://colab.research.google.com/github/Ruthi-N/Numpy-projects/blob/main/MiniProject2(Numpy).ipynb\" target=\"_parent\"><img src=\"https://colab.research.google.com/assets/colab-badge.svg\" alt=\"Open In Colab\"/></a>"
      ]
    },
    {
      "cell_type": "code",
      "execution_count": null,
      "metadata": {
        "colab": {
          "base_uri": "https://localhost:8080/"
        },
        "id": "fZE8qgUBcUfh",
        "outputId": "2506cc6b-516b-46ab-a9e6-94755bd0c21a"
      },
      "outputs": [
        {
          "output_type": "stream",
          "name": "stdout",
          "text": [
            "The array containing data:\n",
            "[[ 6  2 36  1]\n",
            " [19 28 34  6]\n",
            " [ 1 30 31  9]\n",
            " [14  5 23 10]\n",
            " [20  3 18 36]\n",
            " [23 10  9 34]\n",
            " [34  5 12 11]\n",
            " [15  0 18 24]\n",
            " [39  2 22  4]\n",
            " [18 34 15 31]\n",
            " [ 8 31  3 14]\n",
            " [29 22 35 15]\n",
            " [14 12 19  3]\n",
            " [34 26  2 26]\n",
            " [14  1  0 19]\n",
            " [29  4 20 20]\n",
            " [35 35  6 23]\n",
            " [17  1  9 32]\n",
            " [ 9 21 30 20]\n",
            " [25 25 25  5]\n",
            " [32  8 14 33]\n",
            " [29 27 30 39]\n",
            " [11  3  3 14]\n",
            " [20 24 17 26]\n",
            " [ 3 17 25 29]\n",
            " [ 5 13 38  4]\n",
            " [35 14 28 28]\n",
            " [ 5 11 36 26]\n",
            " [17 28 37 34]\n",
            " [14  4 19  4]]\n",
            "The average temp of Morning is 11.25\n",
            "The average temp of Afternoon is 21.75\n",
            "The average temp of Evening is 17.75\n",
            "The average temp of Night is 13.0\n",
            "The hotest day was on day 22\n",
            "The coldest day was on day 23\n",
            "The days on which afternoon temperature exceeded 35 degree celsius: []\n",
            "The moving average of temperature over a 7 day window:\n",
            "[16.78571429 17.21428571 16.5        17.46428571 17.60714286 18.46428571\n",
            " 17.46428571 18.39285714 17.57142857 17.78571429 17.82142857 17.92857143\n",
            " 17.17857143 18.32142857 18.28571429 21.53571429 20.03571429 19.60714286\n",
            " 20.14285714 19.42857143 20.32142857 20.         19.67857143 20.03571429]\n"
          ]
        }
      ],
      "source": [
        "import numpy as np\n",
        "columns=[\"Morning\",\"Afternoon\",\"Evening\",\"Night\"]\n",
        "arr=np.random.randint(0,40,(30,4))\n",
        "print(\"The array containing data:\")\n",
        "print(arr)\n",
        "avg_temp=np.mean(arr,axis=1)\n",
        "for name,avg in zip(columns,avg_temp):\n",
        "  print(\"The average temp of\",name,\"is\",avg)\n",
        "avg_daily=np.mean(arr,axis=1)\n",
        "maximum=np.argmax(avg_daily)+1\n",
        "minimum=np.argmin(avg_daily)+1\n",
        "print(\"The hotest day was on day\",maximum)\n",
        "print(\"The coldest day was on day\",minimum)\n",
        "temp=np.where(arr[:,1]>35)[0]+1\n",
        "print(\"The days on which afternoon temperature exceeded 35 degree celsius:\",temp)\n",
        "moving_avg=np.convolve(avg_daily,np.ones(7)/7,mode='valid')\n",
        "print(\"The moving average of temperature over a 7 day window:\")\n",
        "print(moving_avg)"
      ]
    },
    {
      "cell_type": "code",
      "source": [],
      "metadata": {
        "id": "5k5Y9ossfz97"
      },
      "execution_count": null,
      "outputs": []
    }
  ]
}