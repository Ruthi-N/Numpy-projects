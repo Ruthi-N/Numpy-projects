{
  "nbformat": 4,
  "nbformat_minor": 0,
  "metadata": {
    "colab": {
      "provenance": [],
      "authorship_tag": "ABX9TyP2hc/liWs9vwECwtGMPYxx",
      "include_colab_link": true
    },
    "kernelspec": {
      "name": "python3",
      "display_name": "Python 3"
    },
    "language_info": {
      "name": "python"
    }
  },
  "cells": [
    {
      "cell_type": "markdown",
      "metadata": {
        "id": "view-in-github",
        "colab_type": "text"
      },
      "source": [
        "<a href=\"https://colab.research.google.com/github/Ruthi-N/Numpy-projects/blob/main/MiniProject3(Numpy).ipynb\" target=\"_parent\"><img src=\"https://colab.research.google.com/assets/colab-badge.svg\" alt=\"Open In Colab\"/></a>"
      ]
    },
    {
      "cell_type": "code",
      "execution_count": null,
      "metadata": {
        "colab": {
          "base_uri": "https://localhost:8080/"
        },
        "id": "eBkJ58-3jCcd",
        "outputId": "46e53ae6-2278-414d-9f14-3472e731c4ba"
      },
      "outputs": [
        {
          "output_type": "stream",
          "name": "stdout",
          "text": [
            "Mean: 54.743\n",
            "Median: 55.0\n",
            "Standard deviation: 26.129426916792493\n",
            "Variance: 682.746951\n",
            "The count of elements greater than the mean: 502\n",
            "First element of normalized array is 0.5955056179775281\n",
            "The sum of columns after reshaping is: [1130 1192  987 1043 1184  964 1057  938 1067  916 1173  999 1051 1325\n",
            "  996 1083 1004 1199  963  988 1072 1109 1219 1184 1185 1179 1098 1247\n",
            " 1111 1103 1073 1313 1136 1062  799 1026 1010 1039 1053 1123  959 1065\n",
            " 1203  993 1024 1179 1103 1432 1160 1225]\n"
          ]
        }
      ],
      "source": [
        "import numpy as np\n",
        "arr=np.random.randint(10,100,(1,1000))\n",
        "mean=np.mean(arr)\n",
        "median=np.median(arr)\n",
        "standard_deviation=np.std(arr)\n",
        "variance=np.var(arr)\n",
        "print(\"Mean:\",mean)\n",
        "print(\"Median:\",median)\n",
        "print(\"Standard deviation:\",standard_deviation)\n",
        "print(\"Variance:\",variance)\n",
        "count=np.sum(arr>mean)\n",
        "print(\"The count of elements greater than the mean:\",count)\n",
        "min_val=np.min(arr)\n",
        "max_val=np.max(arr)\n",
        "normalized_arr=(arr-min_val)/(max_val-min_val)\n",
        "print(\"First element of normalized array is\",normalized_arr[0,0])\n",
        "arr2=arr.reshape(20,50)\n",
        "sum2=np.sum(arr2,axis=0)\n",
        "print(\"The sum of columns after reshaping is:\",sum2)"
      ]
    },
    {
      "cell_type": "code",
      "source": [],
      "metadata": {
        "id": "ak1-sYWkjsDc"
      },
      "execution_count": null,
      "outputs": []
    }
  ]
}