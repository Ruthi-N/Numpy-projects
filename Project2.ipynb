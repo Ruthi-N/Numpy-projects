{
  "nbformat": 4,
  "nbformat_minor": 0,
  "metadata": {
    "colab": {
      "provenance": [],
      "authorship_tag": "ABX9TyM0mQVSwe9p41WE5oSpEwcg",
      "include_colab_link": true
    },
    "kernelspec": {
      "name": "python3",
      "display_name": "Python 3"
    },
    "language_info": {
      "name": "python"
    }
  },
  "cells": [
    {
      "cell_type": "markdown",
      "metadata": {
        "id": "view-in-github",
        "colab_type": "text"
      },
      "source": [
        "<a href=\"https://colab.research.google.com/github/Ruthi-N/Numpy-projects/blob/main/Project2.ipynb\" target=\"_parent\"><img src=\"https://colab.research.google.com/assets/colab-badge.svg\" alt=\"Open In Colab\"/></a>"
      ]
    },
    {
      "cell_type": "markdown",
      "source": [
        " Matrix Calculator – Develop a program that performs addition, multiplication, determinant, transpose and inverse operations on matrices"
      ],
      "metadata": {
        "id": "3c7b17WI2Sl6"
      }
    },
    {
      "cell_type": "code",
      "execution_count": 1,
      "metadata": {
        "id": "K77Th_VQ1aqv"
      },
      "outputs": [],
      "source": [
        "import numpy as np"
      ]
    },
    {
      "cell_type": "code",
      "source": [
        "#function to perform addition of matrix\n",
        "def add_matrix(matrix1, matrix2):\n",
        "    return np.add(matrix1, matrix2)"
      ],
      "metadata": {
        "id": "AdLzQQTS2878"
      },
      "execution_count": 2,
      "outputs": []
    },
    {
      "cell_type": "code",
      "source": [
        "#function to perform multiplication\n",
        "def mul_matrix(matrix1,matrix2):\n",
        "    return np.dot(matrix1,matrix2)"
      ],
      "metadata": {
        "id": "k0Q3Moi63Va6"
      },
      "execution_count": 3,
      "outputs": []
    },
    {
      "cell_type": "code",
      "source": [
        "#function to find determinant of a matrix\n",
        "def det_matrix(matrix3):\n",
        "  return np.linalg.det(matrix3)"
      ],
      "metadata": {
        "id": "BLDUahKE3lHA"
      },
      "execution_count": 4,
      "outputs": []
    },
    {
      "cell_type": "code",
      "source": [
        "#function to find the transpose\n",
        "def trans_matrix(matrix3):\n",
        "  return matrix3.transpose()"
      ],
      "metadata": {
        "id": "559H06dO39Fq"
      },
      "execution_count": 5,
      "outputs": []
    },
    {
      "cell_type": "code",
      "source": [
        "#function to find inverse of a matrix\n",
        "def inv_matrix(matrix3):\n",
        "  if np.linalg.det(matrix3) == 0:\n",
        "    print(\"Inverse does not exist\")\n",
        "  else:\n",
        "    return np.linalg.inv(matrix3)"
      ],
      "metadata": {
        "id": "_ZH_cPGH4V2Q"
      },
      "execution_count": 6,
      "outputs": []
    },
    {
      "cell_type": "code",
      "source": [
        "row1=int(input(\"Enter the number of rows of matrix1: \"))\n",
        "column1=int(input(\"Enter the number of columns of matrix1: \"))\n",
        "row2=int(input(\"Enter the number of rows of matrix2: \"))\n",
        "column2=int(input(\"Enter the number of columns of matrix2: \"))\n",
        "matrix1 = np.zeros((row1, column1), dtype=int)\n",
        "matrix2 = np.zeros((row2, column2), dtype=int)\n",
        "for i in range(row1):\n",
        "    for j in range(column1):\n",
        "        matrix1[i][j]=int(input(f\"Enter element [{i}][{j}] for matrix1: \"))\n",
        "for i in range(row2):\n",
        "    for j in range(column2):\n",
        "        matrix2[i][j]=int(input(f\"Enter element [{i}][{j}] for matrix2: \"))\n",
        "obj1=add_matrix(matrix1,matrix2)\n",
        "obj2=mul_matrix(matrix1,matrix2)\n",
        "obj3=det_matrix(matrix1)\n",
        "obj4=trans_matrix(matrix1)\n",
        "obj5=inv_matrix(matrix1)\n",
        "print(\"Matrix 1 is\")\n",
        "print(matrix1)\n",
        "print(\"Matrix 2 is\")\n",
        "print(matrix2)\n",
        "print(\"Addition of matrix is \")\n",
        "print(obj1)\n",
        "print(\"Multiplication of matrix is\")\n",
        "print(obj2)\n",
        "print(\"Determinant of matrix is\")\n",
        "print(obj3)\n",
        "print(\"Transpose of matrix is\")\n",
        "print(obj4)\n",
        "print(\"Inverse of matrix is\")\n",
        "print(obj5)"
      ],
      "metadata": {
        "colab": {
          "base_uri": "https://localhost:8080/"
        },
        "id": "3QQccXrs4kpN",
        "outputId": "2c453529-2403-4a84-f9a3-351e2b3032e1"
      },
      "execution_count": 21,
      "outputs": [
        {
          "output_type": "stream",
          "name": "stdout",
          "text": [
            "Enter the number of rows of matrix1: 2\n",
            "Enter the number of columns of matrix1: 2\n",
            "Enter the number of rows of matrix2: 2\n",
            "Enter the number of columns of matrix2: 2\n",
            "Enter element [0][0] for matrix1: 1\n",
            "Enter element [0][1] for matrix1: 2\n",
            "Enter element [1][0] for matrix1: 3\n",
            "Enter element [1][1] for matrix1: 4\n",
            "Enter element [0][0] for matrix2: 5\n",
            "Enter element [0][1] for matrix2: 6\n",
            "Enter element [1][0] for matrix2: 7\n",
            "Enter element [1][1] for matrix2: 8\n",
            "Matrix 1 is\n",
            "[[1 2]\n",
            " [3 4]]\n",
            "Matrix 2 is\n",
            "[[5 6]\n",
            " [7 8]]\n",
            "Addition of matrix is \n",
            "[[ 6  8]\n",
            " [10 12]]\n",
            "Multiplication of matrix is\n",
            "[[19 22]\n",
            " [43 50]]\n",
            "Determinant of matrix is\n",
            "-2.0000000000000004\n",
            "Transpose of matrix is\n",
            "[[1 3]\n",
            " [2 4]]\n",
            "Inverse of matrix is\n",
            "[[-2.   1. ]\n",
            " [ 1.5 -0.5]]\n"
          ]
        }
      ]
    },
    {
      "cell_type": "code",
      "source": [
        "\n"
      ],
      "metadata": {
        "id": "hm6uubyM47CS"
      },
      "execution_count": null,
      "outputs": []
    }
  ]
}