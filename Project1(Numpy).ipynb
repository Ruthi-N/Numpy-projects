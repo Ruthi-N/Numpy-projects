{
  "nbformat": 4,
  "nbformat_minor": 0,
  "metadata": {
    "colab": {
      "provenance": [],
      "authorship_tag": "ABX9TyMarJ/NDoiT9zI+8VinS/F9",
      "include_colab_link": true
    },
    "kernelspec": {
      "name": "python3",
      "display_name": "Python 3"
    },
    "language_info": {
      "name": "python"
    }
  },
  "cells": [
    {
      "cell_type": "markdown",
      "metadata": {
        "id": "view-in-github",
        "colab_type": "text"
      },
      "source": [
        "<a href=\"https://colab.research.google.com/github/Ruthi-N/Numpy-projects/blob/main/Project1(Numpy).ipynb\" target=\"_parent\"><img src=\"https://colab.research.google.com/assets/colab-badge.svg\" alt=\"Open In Colab\"/></a>"
      ]
    },
    {
      "cell_type": "code",
      "execution_count": null,
      "metadata": {
        "id": "UIHiaWGphdEv",
        "colab": {
          "base_uri": "https://localhost:8080/"
        },
        "outputId": "b0afd2e5-38e4-446d-8c1e-74c2a15247c3"
      },
      "outputs": [
        {
          "output_type": "stream",
          "name": "stdout",
          "text": [
            "a [1 2 3 4 5]\n",
            "b [1. 2. 3. 4. 5.]\n",
            "c [[1 2 3]\n",
            " [4 5 6]]\n",
            "d [[2 3 4]\n",
            " [4 5 6]\n",
            " [6 7 8]]\n",
            "e [0. 0. 0. 0. 0. 0. 0. 0. 0. 0.]\n",
            "f [[0 0 0 0 0]\n",
            " [0 0 0 0 0]\n",
            " [0 0 0 0 0]]\n",
            "g [[1 1 1 1 1 1 1 1]\n",
            " [1 1 1 1 1 1 1 1]\n",
            " [1 1 1 1 1 1 1 1]\n",
            " [1 1 1 1 1 1 1 1]\n",
            " [1 1 1 1 1 1 1 1]]\n",
            "h [6 6 6 6 6]\n",
            "i [ 0  2  4  6  8 10 12 14 16 18]\n",
            "j [ 0.   2.5  5.   7.5 10. ]\n",
            "k [0.02013719 0.12072114 0.0620427  0.24157227]\n",
            "l [[  0.97371532  -6.97342233 -11.78494147]\n",
            " [ 10.35371451  -0.99532137  -2.51580535]\n",
            " [  5.63924634  -4.21874613  10.59425045]]\n",
            "m [[3 3 4 1 1 1 2]\n",
            " [1 2 4 4 1 1 4]\n",
            " [1 2 1 3 1 3 1]\n",
            " [4 2 2 2 1 4 2]\n",
            " [3 1 2 2 2 3 3]\n",
            " [2 4 2 3 3 4 4]]\n",
            "n [[1. 0. 0.]\n",
            " [0. 1. 0.]\n",
            " [0. 0. 1.]]\n"
          ]
        }
      ],
      "source": [
        "#creating array in numpy\n",
        "import numpy as np\n",
        "#1 dimesional without specifying data types\n",
        "a=np.array([1,2,3,4,5])\n",
        "print('a',a)\n",
        "#1 dimensional specifying dataype\n",
        "b=np.array([1,2,3,4,5],dtype=float)\n",
        "print('b',b)\n",
        "#2 dimensional\n",
        "c=np.array([[1,2,3],[4,5,6]])\n",
        "print('c',c)\n",
        "#2 dimensional array using a loop\n",
        "d=np.array([range(i,i+3) for i in [2,4,6]])\n",
        "print('d',d)\n",
        "# creating a array filled with zeros in a specified size\n",
        "e=np.zeros(10,dtype=float)\n",
        "print('e',e)\n",
        "f=np.zeros((3,5),dtype=int)\n",
        "print('f',f)\n",
        "#creating a array filled with ones\n",
        "g=np.ones((5,8),dtype=int)\n",
        "print('g',g)\n",
        "#creating an array to have the sam value filled in the whole array\n",
        "h=np.full(5,6)\n",
        "print('h',h)\n",
        "#creating an array filled with linear sequence using start stop and step(this can create only one dimesional arrays directly)\n",
        "i=np.arange(0,20,2)\n",
        "print('i',i)\n",
        "#creating arrays of values evenly spaced\n",
        "j=np.linspace(0,10,5)\n",
        "print('j',j)\n",
        "#creating an array of random values\n",
        "k=np.random.random(4)#makes a matrix of order 4 with values in between 0 to 1 filled in them\n",
        "print('k',k)\n",
        "l=np.random.normal(1,10,(3,3))#creates a amtrix of order 3,3 with values in between 1 and 10\n",
        "print('l',l)\n",
        "m=np.random.randint(1,5,(6,7))#creates a matrix of order 6,7 ith values in between 1 and 5\n",
        "print('m',m)\n",
        "n=np.eye(3,3)\n",
        "print('n',n)\n"
      ]
    },
    {
      "cell_type": "code",
      "source": [
        "\n",
        "#numpy array attributes\n",
        "print(c.ndim)\n",
        "print(f.shape)\n",
        "print(g.size)\n",
        "print(h.dtype)\n",
        "print(a.itemsize)\n",
        "print(b.nbytes)"
      ],
      "metadata": {
        "colab": {
          "base_uri": "https://localhost:8080/"
        },
        "id": "YssJSE8XrTIP",
        "outputId": "8175ce1f-227f-4988-b428-3cfb351b0b1b"
      },
      "execution_count": null,
      "outputs": [
        {
          "output_type": "stream",
          "name": "stdout",
          "text": [
            "2\n",
            "(3, 5)\n",
            "40\n",
            "int64\n",
            "8\n",
            "40\n"
          ]
        }
      ]
    },
    {
      "cell_type": "code",
      "source": [
        "#array indexing\n",
        "print(a[0])\n",
        "print(c[1])\n",
        "print(d[1][2])\n",
        "#[start:stop:step]\n",
        "#for 2 dimensional array it is arrayname[row start:row stop:row step,column start:column stop:column step]\n",
        "print(m[0:6:2,1])"
      ],
      "metadata": {
        "colab": {
          "base_uri": "https://localhost:8080/"
        },
        "id": "V0EbITlx5dBI",
        "outputId": "ee22f7fd-3d96-4247-9da1-af8287ce5f36"
      },
      "execution_count": null,
      "outputs": [
        {
          "output_type": "stream",
          "name": "stdout",
          "text": [
            "1\n",
            "[4 5 6]\n",
            "6\n",
            "[4 4 2]\n"
          ]
        }
      ]
    },
    {
      "cell_type": "code",
      "source": [
        "#creating copy of arrays ,editing and modifying arrays\n",
        "x=a[0:5]\n",
        "print(x)\n",
        "x[1]=1000#this method changes the original array as well\n",
        "print(x)\n",
        "print(a)\n",
        "y=a[0:5].copy()#using copy function does no affect the original array if there is any edit made in the copied array\n",
        "print(y)\n",
        "y[2]=2000\n",
        "print(y)\n",
        "print(a)"
      ],
      "metadata": {
        "colab": {
          "base_uri": "https://localhost:8080/"
        },
        "id": "N0z4NqGT8VnD",
        "outputId": "0b232be4-a5b8-48d2-de95-e163903f97c6"
      },
      "execution_count": null,
      "outputs": [
        {
          "output_type": "stream",
          "name": "stdout",
          "text": [
            "[1 2 3 4 5]\n",
            "[   1 1000    3    4    5]\n",
            "[   1 1000    3    4    5]\n",
            "[   1 1000    3    4    5]\n",
            "[   1 1000 2000    4    5]\n",
            "[   1 1000    3    4    5]\n"
          ]
        }
      ]
    },
    {
      "cell_type": "code",
      "source": [
        "#reshaping of arrays\n",
        "#syntax:arrayname.reshape(no. of rows,no. of columns)\n",
        "e.reshape(5,2)"
      ],
      "metadata": {
        "colab": {
          "base_uri": "https://localhost:8080/"
        },
        "id": "HkRkHRb2B8ed",
        "outputId": "a130b104-54ad-4369-f9ec-6dd1e685f18d"
      },
      "execution_count": null,
      "outputs": [
        {
          "output_type": "execute_result",
          "data": {
            "text/plain": [
              "array([[0., 0.],\n",
              "       [0., 0.],\n",
              "       [0., 0.],\n",
              "       [0., 0.],\n",
              "       [0., 0.]])"
            ]
          },
          "metadata": {},
          "execution_count": 5
        }
      ]
    },
    {
      "cell_type": "code",
      "source": [
        "#concatenating or merging 2 arrays\n",
        "#np.concatenate([array1,array2],axis=0(for row)/1(for column))\n",
        "print(np.concatenate([a,a],axis=0))\n",
        "print(np.concatenate([c,c],axis=1))\n",
        "print(np.concatenate([c,c],axis=0))\n",
        "#horizontal stack\n",
        "print(np.hstack(c))\n",
        "#vertical stack\n",
        "print(np.vstack(a))"
      ],
      "metadata": {
        "id": "qQRm3r6TC-Qu",
        "colab": {
          "base_uri": "https://localhost:8080/"
        },
        "outputId": "fb2f1b5e-d3c0-4da7-a2be-1a92c135f67d"
      },
      "execution_count": null,
      "outputs": [
        {
          "output_type": "stream",
          "name": "stdout",
          "text": [
            "[   1 1000    3    4    5    1 1000    3    4    5]\n",
            "[[1 2 3 1 2 3]\n",
            " [4 5 6 4 5 6]]\n",
            "[[1 2 3]\n",
            " [4 5 6]\n",
            " [1 2 3]\n",
            " [4 5 6]]\n",
            "[1 2 3 4 5 6]\n",
            "[[   1]\n",
            " [1000]\n",
            " [   3]\n",
            " [   4]\n",
            " [   5]]\n"
          ]
        }
      ]
    },
    {
      "cell_type": "code",
      "source": [
        "#splitting of arrays\n",
        "#np.split(arrayname,[first index where array should be split, second index where array should be split])\n",
        "a1,a2,a3=np.split(a,[1,4])\n",
        "print(a1,a2,a3)\n",
        "c1,c2=np.hsplit(c,[2])\n",
        "print(c1,c2)\n",
        "d1,d2=np.vsplit(d,[2])\n",
        "print(d1,d2)"
      ],
      "metadata": {
        "colab": {
          "base_uri": "https://localhost:8080/"
        },
        "id": "brEzyldRx2KV",
        "outputId": "b49f9a7d-937c-46ab-c0ba-1905364b9bf2"
      },
      "execution_count": null,
      "outputs": [
        {
          "output_type": "stream",
          "name": "stdout",
          "text": [
            "[1] [1000    3    4] [5]\n",
            "[[1 2]\n",
            " [4 5]] [[3]\n",
            " [6]]\n",
            "[[2 3 4]\n",
            " [4 5 6]] [[6 7 8]]\n"
          ]
        }
      ]
    },
    {
      "cell_type": "code",
      "source": [
        "#UFuncs\n",
        "#*\n",
        "print(\"a*3\",a*3)#np.multiply(a,3)\n",
        "print(\"a-10\",a-10)#np.subtract(a,10)\n",
        "print(\"a+15\",a+15)#np.add(a,15)\n",
        "print(\"a/2\",a/2)#np.divide(a,2)\n",
        "print(\"a//3\",a//3)#np.floor_divide(a,3)\n",
        "print(\"-a\",-a)#np.negative(a)\n",
        "print(\"x**2\",x**2)#np.power(a,2)\n",
        "print(\"x%2\",x%2)#np.mod(x,2)\n",
        "theta = np.linspace(0, np.pi, 3)\n",
        "print(\"theta = \", theta)\n",
        "print(\"sin(theta) = \", np.sin(theta))\n",
        "print(\"cos(theta) = \", np.cos(theta))\n",
        "print(\"tan(theta) = \", np.tan(theta))\n",
        "x11 = [-1, 0, 1]\n",
        "print(\"x = \", x)\n",
        "print(\"arcsin(x) = \", np.arcsin(x11))\n",
        "print(\"arccos(x) = \", np.arccos(x11))\n",
        "print(\"arctan(x) = \", np.arctan(x11))\n",
        "x12 = [1, 2, 3]\n",
        "print(\"x =\", x)\n",
        "print(\"e^x =\", np.exp(x12))\n",
        "print(\"2^x =\", np.exp2(x12))\n",
        "print(\"3^x =\", np.power(3, x12))\n",
        "x13 = [1, 2, 3]\n",
        "print(\"x =\", x)\n",
        "print(\"e^x =\", np.exp(x13))\n",
        "print(\"2^x =\", np.exp2(x13))\n",
        "print(\"3^x =\", np.power(3, x13))\n",
        "x14 = [1, 2, 4, 10]\n",
        "print(\"x =\", x)\n",
        "print(\"ln(x) =\", np.log(x14))\n",
        "print(\"log2(x) =\", np.log2(x14))\n",
        "print(\"log10(x) =\", np.log10(x14))"
      ],
      "metadata": {
        "colab": {
          "base_uri": "https://localhost:8080/"
        },
        "id": "aefNSmSVzUKR",
        "outputId": "76bda044-c7db-4a86-aa44-c22d3811ba89"
      },
      "execution_count": null,
      "outputs": [
        {
          "output_type": "stream",
          "name": "stdout",
          "text": [
            "a*3 [   3 3000    9   12   15]\n",
            "a-10 [ -9 990  -7  -6  -5]\n",
            "a+15 [  16 1015   18   19   20]\n",
            "a/2 [  0.5 500.    1.5   2.    2.5]\n",
            "a//3 [  0 333   1   1   1]\n",
            "-a [   -1 -1000    -3    -4    -5]\n",
            "x**2 [      1 1000000       9      16      25]\n",
            "x%2 [1 0 1 0 1]\n"
          ]
        }
      ]
    },
    {
      "cell_type": "code",
      "source": [
        "#max ,min and etc\n",
        "print(np.sum(a))#returns the sum of elements in the array\n",
        "print(np.max(b))#returns the max of elements in the array\n",
        "print(np.min(c))#returns the min of elements in the array\n",
        "print(np.max(a,axis=0))\n",
        "print(np.min(b,axis=0))"
      ],
      "metadata": {
        "colab": {
          "base_uri": "https://localhost:8080/"
        },
        "id": "BAMHLNFz3aaE",
        "outputId": "5126ec5b-4c6f-4a57-f366-fb7615aff1d9"
      },
      "execution_count": null,
      "outputs": [
        {
          "output_type": "stream",
          "name": "stdout",
          "text": [
            "1013\n",
            "5.0\n",
            "1\n",
            "1000\n",
            "1.0\n"
          ]
        }
      ]
    },
    {
      "cell_type": "markdown",
      "source": [],
      "metadata": {
        "id": "o_DWUflx75m4"
      }
    },
    {
      "cell_type": "code",
      "source": [
        "#  boolean array\n",
        "x = np.array([1, 2, 3, 4, 5])\n",
        "print(x < 3 )# less tha\n",
        "\n",
        "print(x > 3 )# greater than\n",
        "\n",
        "print(x <= 3) # less than or equal\n",
        "\n",
        "print(x >= 3) # greater than or equal\n",
        "\n",
        "print(x != 3 )# not equal\n",
        "\n",
        "print(x == 3 )# equal\n",
        "\n"
      ],
      "metadata": {
        "colab": {
          "base_uri": "https://localhost:8080/"
        },
        "id": "L2SC93D27YvU",
        "outputId": "f7bc8987-d145-478c-d8bf-3a38e8caa8e4"
      },
      "execution_count": null,
      "outputs": [
        {
          "output_type": "stream",
          "name": "stdout",
          "text": [
            "[ True  True False False False]\n",
            "[False False False  True  True]\n",
            "[ True  True  True False False]\n",
            "[False False  True  True  True]\n",
            "[ True  True False  True  True]\n",
            "[False False  True False False]\n"
          ]
        }
      ]
    },
    {
      "cell_type": "code",
      "source": [],
      "metadata": {
        "id": "qSiLDhta9Dpi"
      },
      "execution_count": null,
      "outputs": []
    }
  ]
}