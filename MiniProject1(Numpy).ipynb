{
  "nbformat": 4,
  "nbformat_minor": 0,
  "metadata": {
    "colab": {
      "provenance": [],
      "authorship_tag": "ABX9TyNFYKaPitwwPwiOKjPlltq7",
      "include_colab_link": true
    },
    "kernelspec": {
      "name": "python3",
      "display_name": "Python 3"
    },
    "language_info": {
      "name": "python"
    }
  },
  "cells": [
    {
      "cell_type": "markdown",
      "metadata": {
        "id": "view-in-github",
        "colab_type": "text"
      },
      "source": [
        "<a href=\"https://colab.research.google.com/github/Ruthi-N/Numpy-projects/blob/main/MiniProject1(Numpy).ipynb\" target=\"_parent\"><img src=\"https://colab.research.google.com/assets/colab-badge.svg\" alt=\"Open In Colab\"/></a>"
      ]
    },
    {
      "cell_type": "code",
      "execution_count": null,
      "metadata": {
        "colab": {
          "base_uri": "https://localhost:8080/"
        },
        "id": "5FoMCdmpVESF",
        "outputId": "8154ce69-a459-4a13-cfb2-ff997b97b64d"
      },
      "outputs": [
        {
          "output_type": "stream",
          "name": "stdout",
          "text": [
            "The array is :\n",
            "[[12 19 32 16 32]\n",
            " [27 24  4  9 13]\n",
            " [17  6 22  8 34]\n",
            " [33 15 30 35  9]\n",
            " [40 27 20 46 12]]\n",
            "Array after replacing every even number with -1\n",
            "[[-1 19 -1 -1 -1]\n",
            " [27 -1 -1  9 13]\n",
            " [17 -1 -1 -1 -1]\n",
            " [33 15 -1 35  9]\n",
            " [-1 27 -1 -1 -1]]\n",
            "List representing sum of elements of each row\n",
            "[15, 47, 13, 91, 23]\n",
            "The dot product of the matrix and its transpose is\n",
            "[[ 365  -67  -33  209  517]\n",
            " [ -67  981  439 1309  -75]\n",
            " [ -33  439  293  503  -41]\n",
            " [ 209 1309  503 2621  329]\n",
            " [ 517  -75  -41  329  733]]\n",
            "The index of maximum element in the matrix is\n",
            "[[3 3]]\n"
          ]
        }
      ],
      "source": [
        "import numpy as np\n",
        "#creating a 5x5 matrix with random integers from 1 to 50 filled inbetween them\n",
        "arr=np.random.randint(1,50,(5,5))\n",
        "print(\"The array is :\")\n",
        "print(arr)\n",
        "arr=np.where(arr%2==0,-1,arr)\n",
        "print(\"Array after replacing every even number with -1\")\n",
        "print(arr)\n",
        "row_sum=np.sum(arr,axis=1)\n",
        "row_sum_list=row_sum.tolist()\n",
        "print(\"List representing sum of elements of each row\")\n",
        "print(row_sum_list)\n",
        "transpose_arr=np.transpose(arr)\n",
        "dot_product=np.dot(arr,transpose_arr)\n",
        "print(\"The dot product of the matrix and its transpose is\")\n",
        "print(dot_product)\n",
        "m=np.max(arr)\n",
        "i=np.argwhere(arr==m)\n",
        "print(\"The index of maximum element in the matrix is\")\n",
        "print(i)"
      ]
    },
    {
      "cell_type": "code",
      "source": [],
      "metadata": {
        "id": "Utsni21jVs5c"
      },
      "execution_count": null,
      "outputs": []
    }
  ]
}