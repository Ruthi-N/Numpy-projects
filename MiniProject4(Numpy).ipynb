{
  "nbformat": 4,
  "nbformat_minor": 0,
  "metadata": {
    "colab": {
      "provenance": [],
      "authorship_tag": "ABX9TyOUB+80V16mbpMxK/QiXGdl",
      "include_colab_link": true
    },
    "kernelspec": {
      "name": "python3",
      "display_name": "Python 3"
    },
    "language_info": {
      "name": "python"
    }
  },
  "cells": [
    {
      "cell_type": "markdown",
      "metadata": {
        "id": "view-in-github",
        "colab_type": "text"
      },
      "source": [
        "<a href=\"https://colab.research.google.com/github/Ruthi-N/Numpy-projects/blob/main/MiniProject4(Numpy).ipynb\" target=\"_parent\"><img src=\"https://colab.research.google.com/assets/colab-badge.svg\" alt=\"Open In Colab\"/></a>"
      ]
    },
    {
      "cell_type": "code",
      "execution_count": null,
      "metadata": {
        "colab": {
          "base_uri": "https://localhost:8080/"
        },
        "id": "LmRjJfDroGr8",
        "outputId": "39942b6d-efb5-4179-fa62-b6def7f5d997"
      },
      "outputs": [
        {
          "output_type": "stream",
          "name": "stdout",
          "text": [
            "Maximum: 1009.0\n",
            "Minimum: 918.0\n",
            "Average: 969.54\n",
            "Days when price dropped more than 5 rupees: [ 2  6  8 10 16 21 25 31 32 35 36 39 43 45 50 54 56 60 61 64 65 66 67 73\n",
            " 75 85 86 88 89 92 93 99]\n"
          ]
        }
      ],
      "source": [
        "import numpy as np\n",
        "arr=np.random.randint(-10,10,99)\n",
        "stock=np.zeros(100)\n",
        "stock[0]=1000\n",
        "for i in range(1,100):\n",
        "  stock[i]=stock[i-1]+arr[i-1]\n",
        "max=np.max(stock)\n",
        "min=np.min(stock)\n",
        "avg=np.mean(stock)\n",
        "drop=np.where(np.diff(stock)<-5)[0]+1\n",
        "moving_avg=np.convolve(stock,np.ones(5)/5,mode='valid')\n",
        "print(\"Maximum:\",max)\n",
        "print(\"Minimum:\",min)\n",
        "print(\"Average:\",avg)\n",
        "print(\"Days when price dropped more than 5 rupees:\",drop)\n"
      ]
    },
    {
      "cell_type": "code",
      "source": [],
      "metadata": {
        "id": "_dVsx7zHrPYZ"
      },
      "execution_count": null,
      "outputs": []
    }
  ]
}