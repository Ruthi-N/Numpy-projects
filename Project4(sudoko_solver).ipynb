{
  "nbformat": 4,
  "nbformat_minor": 0,
  "metadata": {
    "colab": {
      "provenance": [],
      "authorship_tag": "ABX9TyOPZbaLzivu7wZG7rrRVgVE",
      "include_colab_link": true
    },
    "kernelspec": {
      "name": "python3",
      "display_name": "Python 3"
    },
    "language_info": {
      "name": "python"
    }
  },
  "cells": [
    {
      "cell_type": "markdown",
      "metadata": {
        "id": "view-in-github",
        "colab_type": "text"
      },
      "source": [
        "<a href=\"https://colab.research.google.com/github/Ruthi-N/Numpy-projects/blob/main/Project4(sudoko_solver).ipynb\" target=\"_parent\"><img src=\"https://colab.research.google.com/assets/colab-badge.svg\" alt=\"Open In Colab\"/></a>"
      ]
    },
    {
      "cell_type": "code",
      "source": [
        "import numpy as np\n",
        "print(\"Enter the Sudoku puzzle row by row, using 0 for empty cells:\")\n",
        "puzzle = []\n",
        "for _ in range(9):\n",
        "    row = list(map(int, input().split()))\n",
        "    puzzle.append(row)\n",
        "board = np.array(puzzle, dtype=int)\n",
        "empty_cells = np.argwhere(board == 0)\n",
        "def backtrack(index):\n",
        "    if index == len(empty_cells):\n",
        "        return True\n",
        "    row, col = empty_cells[index]\n",
        "    for num in range(1, 10):\n",
        "        if (num not in board[row, :]) and (num not in board[:, col]) and (num not in board[(row//3)*3:(row//3)*3+3, (col//3)*3:(col//3)*3+3]):\n",
        "            board[row, col] = num\n",
        "            if backtrack(index + 1):\n",
        "                return True\n",
        "\n",
        "            board[row, col] = 0\n",
        "    return False\n",
        "if backtrack(0):\n",
        "    print(\"Solved Sudoku:\")\n",
        "    print(board)\n",
        "else:\n",
        "    print(\"No solution found!\")\n"
      ],
      "metadata": {
        "colab": {
          "base_uri": "https://localhost:8080/"
        },
        "id": "Rp0EGTbcW7Ug",
        "outputId": "b009490b-dcab-4c29-b475-45726fd1e87a"
      },
      "execution_count": null,
      "outputs": [
        {
          "output_type": "stream",
          "name": "stdout",
          "text": [
            "Enter the Sudoku puzzle row by row, using 0 for empty cells:\n",
            "0 0 0 0 0 0 0 0 0\n",
            "0 0 0 0 0 0 0 0 0\n",
            "0 0 0 0 0 0 0 0 0\n",
            "0 0 0 0 0 0 0 0 0\n",
            "0 0 0 0 0 0 0 0 0\n",
            "0 0 0 0 0 0 0 0 0\n",
            "0 0 0 0 0 0 0 0 0\n",
            "0 0 0 0 0 0 0 0 0\n",
            "0 0 0 0 0 0 0 0 0\n",
            "Solved Sudoku:\n",
            "[[1 2 3 4 5 6 7 8 9]\n",
            " [4 5 6 7 8 9 1 2 3]\n",
            " [7 8 9 1 2 3 4 5 6]\n",
            " [2 1 4 3 6 5 8 9 7]\n",
            " [3 6 5 8 9 7 2 1 4]\n",
            " [8 9 7 2 1 4 3 6 5]\n",
            " [5 3 1 6 4 2 9 7 8]\n",
            " [6 4 2 9 7 8 5 3 1]\n",
            " [9 7 8 5 3 1 6 4 2]]\n"
          ]
        }
      ]
    },
    {
      "cell_type": "code",
      "source": [],
      "metadata": {
        "id": "pkMThOYHW77b"
      },
      "execution_count": null,
      "outputs": []
    }
  ]
}